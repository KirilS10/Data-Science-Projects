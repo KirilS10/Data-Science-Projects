{
 "cells": [
  {
   "cell_type": "code",
   "execution_count": 8,
   "metadata": {},
   "outputs": [],
   "source": [
    "import numpy as np"
   ]
  },
  {
   "cell_type": "code",
   "execution_count": 9,
   "metadata": {},
   "outputs": [],
   "source": [
    "def game_core_v1(number):##Just guessing a random number.\n",
    "                         ##The function accepts a hidden number and returns the number of attempts\n",
    "    count = 0\n",
    "    while True:\n",
    "        count += 1\n",
    "        predict = np.random.randint(1, 101)  # estimated number\n",
    "        if number == predict:\n",
    "            break\n",
    "    return count  # exit the loop if the number is right\n",
    "\n",
    "\n",
    "def game_core_v2(number):#First we set a random number, and then we decrease or increase it.\n",
    "                         #The function accepts a hidden number and returns the number of attempts\n",
    "\n",
    "    count = 0\n",
    "    predict = np.random.randint(1, 100)\n",
    "    while number != predict:\n",
    "        count += 1\n",
    "        if number > predict:\n",
    "            predict += 1\n",
    "        elif number < predict:\n",
    "            predict -= 1\n",
    "    return count   # exit the loop if the number is right"
   ]
  },
  {
   "cell_type": "code",
   "execution_count": 10,
   "metadata": {},
   "outputs": [],
   "source": [
    "def game_core_v3(number):\n",
    "    count = 0\n",
    "    begin = 1\n",
    "    end = 100\n",
    "    \n",
    "    while True:\n",
    "        predict = (begin + end )//2 # lets find the midpoint of the interval \n",
    "        count += 1\n",
    "        if number > predict:\n",
    "            begin = predict + 1 # if the number  is lower than the midpoint, the algorithm starts to count from the beginning of the interval until the midpoint(in our case :from 1 -50 ) \n",
    "        elif number < predict:\n",
    "            end = predict - 1 # if the number is higher then the midpoint , the algorithm starts to count from the end of the iterval to the midpoint (in our case: from 100 - 50 )\n",
    "        else:\n",
    "            break           # so, the main idea of this algorithm its to narrow down our field of search by dividing our interval in half\n",
    "    return count "
   ]
  },
  {
   "cell_type": "code",
   "execution_count": 11,
   "metadata": {},
   "outputs": [
    {
     "name": "stdout",
     "output_type": "stream",
     "text": [
      "The algorithm guesses the number on average in 101 attempts\n",
      "The algorithm guesses the number on average in 30 attempts\n",
      "The algorithm guesses the number on average in 5 attempts\n"
     ]
    },
    {
     "data": {
      "text/plain": [
       "5"
      ]
     },
     "execution_count": 11,
     "metadata": {},
     "output_type": "execute_result"
    }
   ],
   "source": [
    "def score_game(game_core):\n",
    "    #We run the code 1000 times to find out how fast the code guesses the number\n",
    "    count_ls = []\n",
    "    np.random.seed(1)  # setting RANDOM SEED \n",
    "    random_array = np.random.randint(1, 101, size=1000)\n",
    "    for number in random_array:\n",
    "        count_ls.append(game_core(number))\n",
    "    score = int(np.mean(count_ls))\n",
    "    print(f\"The algorithm guesses the number on average in {score} attempts\")\n",
    "    return score\n",
    "\n",
    "\n",
    "\n",
    "score_game(game_core_v1)\n",
    "score_game(game_core_v2)\n",
    "score_game(game_core_v3)"
   ]
  },
  {
   "cell_type": "code",
   "execution_count": null,
   "metadata": {},
   "outputs": [],
   "source": []
  }
 ],
 "metadata": {
  "kernelspec": {
   "display_name": "Python 3",
   "language": "python",
   "name": "python3"
  },
  "language_info": {
   "codemirror_mode": {
    "name": "ipython",
    "version": 3
   },
   "file_extension": ".py",
   "mimetype": "text/x-python",
   "name": "python",
   "nbconvert_exporter": "python",
   "pygments_lexer": "ipython3",
   "version": "3.8.5"
  }
 },
 "nbformat": 4,
 "nbformat_minor": 4
}
