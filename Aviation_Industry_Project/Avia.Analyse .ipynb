{
 "cells": [
  {
   "cell_type": "markdown",
   "metadata": {},
   "source": [
    "# Task"
   ]
  },
  {
   "cell_type": "markdown",
   "metadata": {},
   "source": [
    "In this project, we need to find out which low-profit flights from Anapa can be abandoned in the winter season."
   ]
  },
  {
   "cell_type": "markdown",
   "metadata": {},
   "source": [
    "# Importing Python Libraries"
   ]
  },
  {
   "cell_type": "code",
   "execution_count": 1,
   "metadata": {},
   "outputs": [],
   "source": [
    "import pandas as pd\n",
    "import matplotlib.pyplot as plt\n",
    "import numpy as np\n",
    "from geopy import distance\n",
    "from math import sin, cos, sqrt, radians, asin\n",
    "import seaborn as sns\n",
    "plt.style.use('seaborn')\n",
    "import matplotlib.gridspec as gridspec"
   ]
  },
  {
   "cell_type": "markdown",
   "metadata": {},
   "source": [
    "# Loading data"
   ]
  },
  {
   "cell_type": "code",
   "execution_count": 2,
   "metadata": {},
   "outputs": [],
   "source": [
    "df=pd.read_csv('Avia_result.csv')"
   ]
  },
  {
   "cell_type": "markdown",
   "metadata": {},
   "source": [
    "# Exploratory data analysis"
   ]
  },
  {
   "cell_type": "code",
   "execution_count": 3,
   "metadata": {},
   "outputs": [
    {
     "data": {
      "text/html": [
       "<div>\n",
       "<style scoped>\n",
       "    .dataframe tbody tr th:only-of-type {\n",
       "        vertical-align: middle;\n",
       "    }\n",
       "\n",
       "    .dataframe tbody tr th {\n",
       "        vertical-align: top;\n",
       "    }\n",
       "\n",
       "    .dataframe thead th {\n",
       "        text-align: right;\n",
       "    }\n",
       "</style>\n",
       "<table border=\"1\" class=\"dataframe\">\n",
       "  <thead>\n",
       "    <tr style=\"text-align: right;\">\n",
       "      <th></th>\n",
       "      <th>flight_id</th>\n",
       "      <th>sold_seats</th>\n",
       "      <th>scheduled_departure</th>\n",
       "      <th>scheduled_arrival</th>\n",
       "      <th>total_amount</th>\n",
       "      <th>latitude</th>\n",
       "      <th>longitude</th>\n",
       "      <th>airport_code</th>\n",
       "      <th>model</th>\n",
       "      <th>availableseats</th>\n",
       "      <th>departure_airport</th>\n",
       "    </tr>\n",
       "  </thead>\n",
       "  <tbody>\n",
       "    <tr>\n",
       "      <th>0</th>\n",
       "      <td>136119</td>\n",
       "      <td>113</td>\n",
       "      <td>2017-01-03T10:05:00Z</td>\n",
       "      <td>2017-01-03T11:45:00Z</td>\n",
       "      <td>1653000.0</td>\n",
       "      <td>55.972599</td>\n",
       "      <td>37.4146</td>\n",
       "      <td>SVO</td>\n",
       "      <td>Boeing 737-300</td>\n",
       "      <td>130</td>\n",
       "      <td>AAQ</td>\n",
       "    </tr>\n",
       "    <tr>\n",
       "      <th>1</th>\n",
       "      <td>136120</td>\n",
       "      <td>109</td>\n",
       "      <td>2017-02-24T10:05:00Z</td>\n",
       "      <td>2017-02-24T11:45:00Z</td>\n",
       "      <td>1605400.0</td>\n",
       "      <td>55.972599</td>\n",
       "      <td>37.4146</td>\n",
       "      <td>SVO</td>\n",
       "      <td>Boeing 737-300</td>\n",
       "      <td>130</td>\n",
       "      <td>AAQ</td>\n",
       "    </tr>\n",
       "    <tr>\n",
       "      <th>2</th>\n",
       "      <td>136122</td>\n",
       "      <td>97</td>\n",
       "      <td>2017-01-08T10:05:00Z</td>\n",
       "      <td>2017-01-08T11:45:00Z</td>\n",
       "      <td>1431000.0</td>\n",
       "      <td>55.972599</td>\n",
       "      <td>37.4146</td>\n",
       "      <td>SVO</td>\n",
       "      <td>Boeing 737-300</td>\n",
       "      <td>130</td>\n",
       "      <td>AAQ</td>\n",
       "    </tr>\n",
       "    <tr>\n",
       "      <th>3</th>\n",
       "      <td>136130</td>\n",
       "      <td>107</td>\n",
       "      <td>2017-02-13T10:05:00Z</td>\n",
       "      <td>2017-02-13T11:45:00Z</td>\n",
       "      <td>1556600.0</td>\n",
       "      <td>55.972599</td>\n",
       "      <td>37.4146</td>\n",
       "      <td>SVO</td>\n",
       "      <td>Boeing 737-300</td>\n",
       "      <td>130</td>\n",
       "      <td>AAQ</td>\n",
       "    </tr>\n",
       "    <tr>\n",
       "      <th>4</th>\n",
       "      <td>136131</td>\n",
       "      <td>124</td>\n",
       "      <td>2017-01-28T10:05:00Z</td>\n",
       "      <td>2017-01-28T11:45:00Z</td>\n",
       "      <td>1812800.0</td>\n",
       "      <td>55.972599</td>\n",
       "      <td>37.4146</td>\n",
       "      <td>SVO</td>\n",
       "      <td>Boeing 737-300</td>\n",
       "      <td>130</td>\n",
       "      <td>AAQ</td>\n",
       "    </tr>\n",
       "  </tbody>\n",
       "</table>\n",
       "</div>"
      ],
      "text/plain": [
       "   flight_id  sold_seats   scheduled_departure     scheduled_arrival  \\\n",
       "0     136119         113  2017-01-03T10:05:00Z  2017-01-03T11:45:00Z   \n",
       "1     136120         109  2017-02-24T10:05:00Z  2017-02-24T11:45:00Z   \n",
       "2     136122          97  2017-01-08T10:05:00Z  2017-01-08T11:45:00Z   \n",
       "3     136130         107  2017-02-13T10:05:00Z  2017-02-13T11:45:00Z   \n",
       "4     136131         124  2017-01-28T10:05:00Z  2017-01-28T11:45:00Z   \n",
       "\n",
       "   total_amount   latitude  longitude airport_code           model  \\\n",
       "0     1653000.0  55.972599    37.4146          SVO  Boeing 737-300   \n",
       "1     1605400.0  55.972599    37.4146          SVO  Boeing 737-300   \n",
       "2     1431000.0  55.972599    37.4146          SVO  Boeing 737-300   \n",
       "3     1556600.0  55.972599    37.4146          SVO  Boeing 737-300   \n",
       "4     1812800.0  55.972599    37.4146          SVO  Boeing 737-300   \n",
       "\n",
       "   availableseats departure_airport  \n",
       "0             130               AAQ  \n",
       "1             130               AAQ  \n",
       "2             130               AAQ  \n",
       "3             130               AAQ  \n",
       "4             130               AAQ  "
      ]
     },
     "execution_count": 3,
     "metadata": {},
     "output_type": "execute_result"
    }
   ],
   "source": [
    "df.head(5)"
   ]
  },
  {
   "cell_type": "markdown",
   "metadata": {},
   "source": [
    "# Coloumns/features in data"
   ]
  },
  {
   "cell_type": "code",
   "execution_count": 4,
   "metadata": {},
   "outputs": [
    {
     "data": {
      "text/plain": [
       "Index(['flight_id', 'sold_seats', 'scheduled_departure', 'scheduled_arrival',\n",
       "       'total_amount', 'latitude', 'longitude', 'airport_code', 'model',\n",
       "       'availableseats', 'departure_airport'],\n",
       "      dtype='object')"
      ]
     },
     "execution_count": 4,
     "metadata": {},
     "output_type": "execute_result"
    }
   ],
   "source": [
    "df.columns"
   ]
  },
  {
   "cell_type": "markdown",
   "metadata": {},
   "source": [
    "# Length of data"
   ]
  },
  {
   "cell_type": "code",
   "execution_count": 5,
   "metadata": {},
   "outputs": [
    {
     "name": "stdout",
     "output_type": "stream",
     "text": [
      "Length of data is  118\n"
     ]
    }
   ],
   "source": [
    "print('Length of data is ',len(df))"
   ]
  },
  {
   "cell_type": "markdown",
   "metadata": {},
   "source": [
    "# Shape of data"
   ]
  },
  {
   "cell_type": "code",
   "execution_count": 6,
   "metadata": {},
   "outputs": [
    {
     "data": {
      "text/plain": [
       "(118, 11)"
      ]
     },
     "execution_count": 6,
     "metadata": {},
     "output_type": "execute_result"
    }
   ],
   "source": [
    "df.shape"
   ]
  },
  {
   "cell_type": "markdown",
   "metadata": {},
   "source": [
    "# Data information\n"
   ]
  },
  {
   "cell_type": "code",
   "execution_count": 7,
   "metadata": {},
   "outputs": [
    {
     "name": "stdout",
     "output_type": "stream",
     "text": [
      "<class 'pandas.core.frame.DataFrame'>\n",
      "RangeIndex: 118 entries, 0 to 117\n",
      "Data columns (total 11 columns):\n",
      " #   Column               Non-Null Count  Dtype  \n",
      "---  ------               --------------  -----  \n",
      " 0   flight_id            118 non-null    int64  \n",
      " 1   sold_seats           118 non-null    int64  \n",
      " 2   scheduled_departure  118 non-null    object \n",
      " 3   scheduled_arrival    118 non-null    object \n",
      " 4   total_amount         118 non-null    float64\n",
      " 5   latitude             118 non-null    float64\n",
      " 6   longitude            118 non-null    float64\n",
      " 7   airport_code         118 non-null    object \n",
      " 8   model                118 non-null    object \n",
      " 9   availableseats       118 non-null    int64  \n",
      " 10  departure_airport    118 non-null    object \n",
      "dtypes: float64(3), int64(3), object(5)\n",
      "memory usage: 10.3+ KB\n"
     ]
    }
   ],
   "source": [
    "df.info()"
   ]
  },
  {
   "cell_type": "markdown",
   "metadata": {},
   "source": [
    "# Additional information "
   ]
  },
  {
   "cell_type": "markdown",
   "metadata": {},
   "source": [
    "Fuel Consumption(KG/HOUR)"
   ]
  },
  {
   "cell_type": "code",
   "execution_count": 8,
   "metadata": {},
   "outputs": [],
   "source": [
    "fuel_consumption = {'Boeing 737-300': 2600, 'Sukhoi Superjet-100':1700}"
   ]
  },
  {
   "cell_type": "markdown",
   "metadata": {},
   "source": [
    "Avg.Fuel Cost in the winter season(Russian rubles)"
   ]
  },
  {
   "cell_type": "code",
   "execution_count": 9,
   "metadata": {},
   "outputs": [],
   "source": [
    "fuel_price = {1: 41435, 2:39553, 12:47101}"
   ]
  },
  {
   "cell_type": "markdown",
   "metadata": {},
   "source": [
    "Calculation(the price of aviation fuel per flight)"
   ]
  },
  {
   "cell_type": "code",
   "execution_count": 10,
   "metadata": {},
   "outputs": [],
   "source": [
    "def price(row):\n",
    "    duration= row['flight_time']/60 # получаем часы из длительности в минутах\n",
    "    price_kg = row['fuel_price']/1000 # рассчитываем стоимость топлива в кг\n",
    "    fuel_consumption = row['fuel_consumption'] \n",
    "    return duration*price_kg*fuel_consumption"
   ]
  },
  {
   "cell_type": "markdown",
   "metadata": {},
   "source": [
    "# Calculation(the distance between Anapa and destinations (km))"
   ]
  },
  {
   "cell_type": "code",
   "execution_count": 33,
   "metadata": {},
   "outputs": [],
   "source": [
    "Radius = 6373.0#Radius of earth(km)\n",
    "def distance_cal (row):\n",
    "    lon0 = 37.35\n",
    "    lat0 = 45\n",
    "    lat1 = row['latitude']\n",
    "    lon1 = row['longitude']\n",
    "    lon0, lat0, lon1, lat1 = map(radians, [lon0, lat0, lon1, lat1])\n",
    "    distance_lon = lon1 - lon0\n",
    "    distance_lat = lat1 - lat0\n",
    "\n",
    "    x = sin(distance_lat / 2)**2 + cos(lat0) * cos(lat1) * sin(distance_lon / 2)**2\n",
    "    y = 2 *asin(sqrt(x))\n",
    "\n",
    "    distance_t = Radius * y\n",
    "\n",
    "    return distance_t\n",
    "\n",
    "\n",
    "df['distance_t'] = df.apply (lambda row: distance_cal(row), axis=1)"
   ]
  },
  {
   "cell_type": "markdown",
   "metadata": {},
   "source": [
    "# Converting Time"
   ]
  },
  {
   "cell_type": "code",
   "execution_count": 12,
   "metadata": {},
   "outputs": [],
   "source": [
    "df['scheduled_departure'] = pd.to_datetime(df['scheduled_departure'])\n",
    "df['scheduled_arrival'] = pd.to_datetime(df['scheduled_arrival'])"
   ]
  },
  {
   "cell_type": "code",
   "execution_count": 13,
   "metadata": {},
   "outputs": [],
   "source": [
    "df['scheduled_departure_month'] = df['scheduled_departure'].apply(lambda x: x.month)"
   ]
  },
  {
   "cell_type": "markdown",
   "metadata": {},
   "source": [
    "# Duration of our flights "
   ]
  },
  {
   "cell_type": "code",
   "execution_count": 14,
   "metadata": {},
   "outputs": [],
   "source": [
    "df['flight_time'] = df['scheduled_arrival'] - df['scheduled_departure']"
   ]
  },
  {
   "cell_type": "markdown",
   "metadata": {},
   "source": [
    "# Load Factor(Empty Seats)"
   ]
  },
  {
   "cell_type": "code",
   "execution_count": 15,
   "metadata": {},
   "outputs": [],
   "source": [
    "df['Empty seats'] = round(df.sold_seats*100/df.availableseats, 2)"
   ]
  },
  {
   "cell_type": "code",
   "execution_count": 16,
   "metadata": {},
   "outputs": [
    {
     "data": {
      "text/html": [
       "<div>\n",
       "<style scoped>\n",
       "    .dataframe tbody tr th:only-of-type {\n",
       "        vertical-align: middle;\n",
       "    }\n",
       "\n",
       "    .dataframe tbody tr th {\n",
       "        vertical-align: top;\n",
       "    }\n",
       "\n",
       "    .dataframe thead th {\n",
       "        text-align: right;\n",
       "    }\n",
       "</style>\n",
       "<table border=\"1\" class=\"dataframe\">\n",
       "  <thead>\n",
       "    <tr style=\"text-align: right;\">\n",
       "      <th></th>\n",
       "      <th>flight_id</th>\n",
       "      <th>sold_seats</th>\n",
       "      <th>scheduled_departure</th>\n",
       "      <th>scheduled_arrival</th>\n",
       "      <th>total_amount</th>\n",
       "      <th>latitude</th>\n",
       "      <th>longitude</th>\n",
       "      <th>airport_code</th>\n",
       "      <th>model</th>\n",
       "      <th>availableseats</th>\n",
       "      <th>departure_airport</th>\n",
       "      <th>distance_t</th>\n",
       "      <th>scheduled_departure_month</th>\n",
       "      <th>flight_time</th>\n",
       "      <th>Empty seats</th>\n",
       "    </tr>\n",
       "  </thead>\n",
       "  <tbody>\n",
       "    <tr>\n",
       "      <th>2</th>\n",
       "      <td>136122</td>\n",
       "      <td>97</td>\n",
       "      <td>2017-01-08 10:05:00+00:00</td>\n",
       "      <td>2017-01-08 11:45:00+00:00</td>\n",
       "      <td>1431000.0</td>\n",
       "      <td>55.972599</td>\n",
       "      <td>37.414600</td>\n",
       "      <td>SVO</td>\n",
       "      <td>Boeing 737-300</td>\n",
       "      <td>130</td>\n",
       "      <td>AAQ</td>\n",
       "      <td>1220.488778</td>\n",
       "      <td>1</td>\n",
       "      <td>0 days 01:40:00</td>\n",
       "      <td>74.62</td>\n",
       "    </tr>\n",
       "    <tr>\n",
       "      <th>38</th>\n",
       "      <td>136360</td>\n",
       "      <td>97</td>\n",
       "      <td>2017-02-05 10:05:00+00:00</td>\n",
       "      <td>2017-02-05 11:45:00+00:00</td>\n",
       "      <td>1455400.0</td>\n",
       "      <td>55.972599</td>\n",
       "      <td>37.414600</td>\n",
       "      <td>SVO</td>\n",
       "      <td>Boeing 737-300</td>\n",
       "      <td>130</td>\n",
       "      <td>AAQ</td>\n",
       "      <td>1220.488778</td>\n",
       "      <td>2</td>\n",
       "      <td>0 days 01:40:00</td>\n",
       "      <td>74.62</td>\n",
       "    </tr>\n",
       "    <tr>\n",
       "      <th>68</th>\n",
       "      <td>136642</td>\n",
       "      <td>64</td>\n",
       "      <td>2017-01-30 09:25:00+00:00</td>\n",
       "      <td>2017-01-30 10:15:00+00:00</td>\n",
       "      <td>531000.0</td>\n",
       "      <td>50.643799</td>\n",
       "      <td>36.590099</td>\n",
       "      <td>EGO</td>\n",
       "      <td>Sukhoi Superjet-100</td>\n",
       "      <td>97</td>\n",
       "      <td>AAQ</td>\n",
       "      <td>630.309277</td>\n",
       "      <td>1</td>\n",
       "      <td>0 days 00:50:00</td>\n",
       "      <td>65.98</td>\n",
       "    </tr>\n",
       "    <tr>\n",
       "      <th>93</th>\n",
       "      <td>136807</td>\n",
       "      <td>68</td>\n",
       "      <td>2017-02-23 09:25:00+00:00</td>\n",
       "      <td>2017-02-23 10:15:00+00:00</td>\n",
       "      <td>531000.0</td>\n",
       "      <td>50.643799</td>\n",
       "      <td>36.590099</td>\n",
       "      <td>EGO</td>\n",
       "      <td>Sukhoi Superjet-100</td>\n",
       "      <td>97</td>\n",
       "      <td>AAQ</td>\n",
       "      <td>630.309277</td>\n",
       "      <td>2</td>\n",
       "      <td>0 days 00:50:00</td>\n",
       "      <td>70.10</td>\n",
       "    </tr>\n",
       "  </tbody>\n",
       "</table>\n",
       "</div>"
      ],
      "text/plain": [
       "    flight_id  sold_seats       scheduled_departure         scheduled_arrival  \\\n",
       "2      136122          97 2017-01-08 10:05:00+00:00 2017-01-08 11:45:00+00:00   \n",
       "38     136360          97 2017-02-05 10:05:00+00:00 2017-02-05 11:45:00+00:00   \n",
       "68     136642          64 2017-01-30 09:25:00+00:00 2017-01-30 10:15:00+00:00   \n",
       "93     136807          68 2017-02-23 09:25:00+00:00 2017-02-23 10:15:00+00:00   \n",
       "\n",
       "    total_amount   latitude  longitude airport_code                model  \\\n",
       "2      1431000.0  55.972599  37.414600          SVO       Boeing 737-300   \n",
       "38     1455400.0  55.972599  37.414600          SVO       Boeing 737-300   \n",
       "68      531000.0  50.643799  36.590099          EGO  Sukhoi Superjet-100   \n",
       "93      531000.0  50.643799  36.590099          EGO  Sukhoi Superjet-100   \n",
       "\n",
       "    availableseats departure_airport   distance_t  scheduled_departure_month  \\\n",
       "2              130               AAQ  1220.488778                          1   \n",
       "38             130               AAQ  1220.488778                          2   \n",
       "68              97               AAQ   630.309277                          1   \n",
       "93              97               AAQ   630.309277                          2   \n",
       "\n",
       "       flight_time  Empty seats  \n",
       "2  0 days 01:40:00        74.62  \n",
       "38 0 days 01:40:00        74.62  \n",
       "68 0 days 00:50:00        65.98  \n",
       "93 0 days 00:50:00        70.10  "
      ]
     },
     "execution_count": 16,
     "metadata": {},
     "output_type": "execute_result"
    }
   ],
   "source": [
    "df[df['Empty seats'] < 75]"
   ]
  },
  {
   "cell_type": "markdown",
   "metadata": {},
   "source": [
    "# Earned amount (per minute of flight)"
   ]
  },
  {
   "cell_type": "code",
   "execution_count": 17,
   "metadata": {},
   "outputs": [],
   "source": [
    "df['flight_time'] = df['flight_time'].apply(lambda x: x/np.timedelta64(1,'m'))\n",
    "df['total'] =  df.total_amount/df['flight_time']"
   ]
  },
  {
   "cell_type": "code",
   "execution_count": 18,
   "metadata": {},
   "outputs": [
    {
     "data": {
      "image/png": "[encoded data removed]",
      "text/plain": [
       "<Figure size 1080x360 with 1 Axes>"
      ]
     },
     "metadata": {},
     "output_type": "display_data"
    }
   ],
   "source": [
    "fig, ax = plt.subplots(figsize=(15, 5))\n",
    "\n",
    "sns.boxplot(x='model',\n",
    "            y='total',\n",
    "            data=df.loc[df.loc[:, 'model'].isin(\n",
    "                df.loc[:, 'model'].value_counts().index[:])],\n",
    "            ax=ax)\n",
    "\n",
    "plt.xticks(rotation=45)\n",
    "ax.set_title('Boxplot for Aircrafts')\n",
    "\n",
    "plt.show()"
   ]
  },
  {
   "cell_type": "markdown",
   "metadata": {},
   "source": [
    "As we can see Boeing makes more money tham Sukhoi"
   ]
  },
  {
   "cell_type": "markdown",
   "metadata": {},
   "source": [
    "# Empty Seats Proportion"
   ]
  },
  {
   "cell_type": "code",
   "execution_count": 19,
   "metadata": {},
   "outputs": [
    {
     "data": {
      "image/png": "[encoded data removed]",
      "text/plain": [
       "<Figure size 1080x360 with 1 Axes>"
      ]
     },
     "metadata": {},
     "output_type": "display_data"
    }
   ],
   "source": [
    "fig, ax = plt.subplots(figsize=(15, 5))\n",
    "\n",
    "sns.boxplot(x='model',\n",
    "            y='Empty seats',\n",
    "            data=df.loc[df.loc[:, 'model'].isin(\n",
    "                df.loc[:, 'model'].value_counts().index[:])],\n",
    "            ax=ax)\n",
    "\n",
    "plt.xticks(rotation=45)\n",
    "ax.set_title('Boxplot for Aircrafts')\n",
    "\n",
    "plt.show()"
   ]
  },
  {
   "cell_type": "code",
   "execution_count": 34,
   "metadata": {},
   "outputs": [],
   "source": [
    "df['fuel_consumption'] = df['model'].map(fuel_consumption)\n",
    "df['fuel_price'] = df['scheduled_departure_month'].map(fuel_price)"
   ]
  },
  {
   "cell_type": "code",
   "execution_count": 21,
   "metadata": {},
   "outputs": [
    {
     "name": "stdout",
     "output_type": "stream",
     "text": [
      "<class 'pandas.core.frame.DataFrame'>\n",
      "RangeIndex: 118 entries, 0 to 117\n",
      "Data columns (total 18 columns):\n",
      " #   Column                     Non-Null Count  Dtype              \n",
      "---  ------                     --------------  -----              \n",
      " 0   flight_id                  118 non-null    int64              \n",
      " 1   sold_seats                 118 non-null    int64              \n",
      " 2   scheduled_departure        118 non-null    datetime64[ns, UTC]\n",
      " 3   scheduled_arrival          118 non-null    datetime64[ns, UTC]\n",
      " 4   total_amount               118 non-null    float64            \n",
      " 5   latitude                   118 non-null    float64            \n",
      " 6   longitude                  118 non-null    float64            \n",
      " 7   airport_code               118 non-null    object             \n",
      " 8   model                      118 non-null    object             \n",
      " 9   availableseats             118 non-null    int64              \n",
      " 10  departure_airport          118 non-null    object             \n",
      " 11  distance_t                 118 non-null    float64            \n",
      " 12  scheduled_departure_month  118 non-null    int64              \n",
      " 13  flight_time                118 non-null    float64            \n",
      " 14  Empty seats                118 non-null    float64            \n",
      " 15  total                      118 non-null    float64            \n",
      " 16  fuel_consumption           118 non-null    int64              \n",
      " 17  fuel_price                 118 non-null    int64              \n",
      "dtypes: datetime64[ns, UTC](2), float64(7), int64(6), object(3)\n",
      "memory usage: 16.7+ KB\n"
     ]
    }
   ],
   "source": [
    "df.info()"
   ]
  },
  {
   "cell_type": "code",
   "execution_count": 22,
   "metadata": {},
   "outputs": [],
   "source": [
    "df['Cost(Flights)'] = round(df.apply(lambda x: price(x), axis=1),2)"
   ]
  },
  {
   "cell_type": "code",
   "execution_count": 23,
   "metadata": {},
   "outputs": [],
   "source": [
    "df['Profit'] = round(df['total_amount'] - df['Cost(Flights)'], 2)"
   ]
  },
  {
   "cell_type": "code",
   "execution_count": 24,
   "metadata": {},
   "outputs": [],
   "source": [
    "df['Profit(min)'] = df.Profit/df['flight_time']"
   ]
  },
  {
   "cell_type": "code",
   "execution_count": 25,
   "metadata": {},
   "outputs": [
    {
     "data": {
      "text/html": [
       "<div>\n",
       "<style scoped>\n",
       "    .dataframe tbody tr th:only-of-type {\n",
       "        vertical-align: middle;\n",
       "    }\n",
       "\n",
       "    .dataframe tbody tr th {\n",
       "        vertical-align: top;\n",
       "    }\n",
       "\n",
       "    .dataframe thead th {\n",
       "        text-align: right;\n",
       "    }\n",
       "</style>\n",
       "<table border=\"1\" class=\"dataframe\">\n",
       "  <thead>\n",
       "    <tr style=\"text-align: right;\">\n",
       "      <th></th>\n",
       "      <th>flight_id</th>\n",
       "      <th>sold_seats</th>\n",
       "      <th>scheduled_departure</th>\n",
       "      <th>scheduled_arrival</th>\n",
       "      <th>total_amount</th>\n",
       "      <th>latitude</th>\n",
       "      <th>longitude</th>\n",
       "      <th>airport_code</th>\n",
       "      <th>model</th>\n",
       "      <th>availableseats</th>\n",
       "      <th>...</th>\n",
       "      <th>distance_t</th>\n",
       "      <th>scheduled_departure_month</th>\n",
       "      <th>flight_time</th>\n",
       "      <th>Empty seats</th>\n",
       "      <th>total</th>\n",
       "      <th>fuel_consumption</th>\n",
       "      <th>fuel_price</th>\n",
       "      <th>Cost(Flights)</th>\n",
       "      <th>Profit</th>\n",
       "      <th>Profit(min)</th>\n",
       "    </tr>\n",
       "  </thead>\n",
       "  <tbody>\n",
       "    <tr>\n",
       "      <th>0</th>\n",
       "      <td>136119</td>\n",
       "      <td>113</td>\n",
       "      <td>2017-01-03 10:05:00+00:00</td>\n",
       "      <td>2017-01-03 11:45:00+00:00</td>\n",
       "      <td>1653000.0</td>\n",
       "      <td>55.972599</td>\n",
       "      <td>37.4146</td>\n",
       "      <td>SVO</td>\n",
       "      <td>Boeing 737-300</td>\n",
       "      <td>130</td>\n",
       "      <td>...</td>\n",
       "      <td>1220.488778</td>\n",
       "      <td>1</td>\n",
       "      <td>100.0</td>\n",
       "      <td>86.92</td>\n",
       "      <td>16530.0</td>\n",
       "      <td>2600</td>\n",
       "      <td>41435</td>\n",
       "      <td>179551.67</td>\n",
       "      <td>1473448.33</td>\n",
       "      <td>14734.4833</td>\n",
       "    </tr>\n",
       "    <tr>\n",
       "      <th>1</th>\n",
       "      <td>136120</td>\n",
       "      <td>109</td>\n",
       "      <td>2017-02-24 10:05:00+00:00</td>\n",
       "      <td>2017-02-24 11:45:00+00:00</td>\n",
       "      <td>1605400.0</td>\n",
       "      <td>55.972599</td>\n",
       "      <td>37.4146</td>\n",
       "      <td>SVO</td>\n",
       "      <td>Boeing 737-300</td>\n",
       "      <td>130</td>\n",
       "      <td>...</td>\n",
       "      <td>1220.488778</td>\n",
       "      <td>2</td>\n",
       "      <td>100.0</td>\n",
       "      <td>83.85</td>\n",
       "      <td>16054.0</td>\n",
       "      <td>2600</td>\n",
       "      <td>39553</td>\n",
       "      <td>171396.33</td>\n",
       "      <td>1434003.67</td>\n",
       "      <td>14340.0367</td>\n",
       "    </tr>\n",
       "    <tr>\n",
       "      <th>2</th>\n",
       "      <td>136122</td>\n",
       "      <td>97</td>\n",
       "      <td>2017-01-08 10:05:00+00:00</td>\n",
       "      <td>2017-01-08 11:45:00+00:00</td>\n",
       "      <td>1431000.0</td>\n",
       "      <td>55.972599</td>\n",
       "      <td>37.4146</td>\n",
       "      <td>SVO</td>\n",
       "      <td>Boeing 737-300</td>\n",
       "      <td>130</td>\n",
       "      <td>...</td>\n",
       "      <td>1220.488778</td>\n",
       "      <td>1</td>\n",
       "      <td>100.0</td>\n",
       "      <td>74.62</td>\n",
       "      <td>14310.0</td>\n",
       "      <td>2600</td>\n",
       "      <td>41435</td>\n",
       "      <td>179551.67</td>\n",
       "      <td>1251448.33</td>\n",
       "      <td>12514.4833</td>\n",
       "    </tr>\n",
       "    <tr>\n",
       "      <th>3</th>\n",
       "      <td>136130</td>\n",
       "      <td>107</td>\n",
       "      <td>2017-02-13 10:05:00+00:00</td>\n",
       "      <td>2017-02-13 11:45:00+00:00</td>\n",
       "      <td>1556600.0</td>\n",
       "      <td>55.972599</td>\n",
       "      <td>37.4146</td>\n",
       "      <td>SVO</td>\n",
       "      <td>Boeing 737-300</td>\n",
       "      <td>130</td>\n",
       "      <td>...</td>\n",
       "      <td>1220.488778</td>\n",
       "      <td>2</td>\n",
       "      <td>100.0</td>\n",
       "      <td>82.31</td>\n",
       "      <td>15566.0</td>\n",
       "      <td>2600</td>\n",
       "      <td>39553</td>\n",
       "      <td>171396.33</td>\n",
       "      <td>1385203.67</td>\n",
       "      <td>13852.0367</td>\n",
       "    </tr>\n",
       "    <tr>\n",
       "      <th>4</th>\n",
       "      <td>136131</td>\n",
       "      <td>124</td>\n",
       "      <td>2017-01-28 10:05:00+00:00</td>\n",
       "      <td>2017-01-28 11:45:00+00:00</td>\n",
       "      <td>1812800.0</td>\n",
       "      <td>55.972599</td>\n",
       "      <td>37.4146</td>\n",
       "      <td>SVO</td>\n",
       "      <td>Boeing 737-300</td>\n",
       "      <td>130</td>\n",
       "      <td>...</td>\n",
       "      <td>1220.488778</td>\n",
       "      <td>1</td>\n",
       "      <td>100.0</td>\n",
       "      <td>95.38</td>\n",
       "      <td>18128.0</td>\n",
       "      <td>2600</td>\n",
       "      <td>41435</td>\n",
       "      <td>179551.67</td>\n",
       "      <td>1633248.33</td>\n",
       "      <td>16332.4833</td>\n",
       "    </tr>\n",
       "  </tbody>\n",
       "</table>\n",
       "<p>5 rows × 21 columns</p>\n",
       "</div>"
      ],
      "text/plain": [
       "   flight_id  sold_seats       scheduled_departure         scheduled_arrival  \\\n",
       "0     136119         113 2017-01-03 10:05:00+00:00 2017-01-03 11:45:00+00:00   \n",
       "1     136120         109 2017-02-24 10:05:00+00:00 2017-02-24 11:45:00+00:00   \n",
       "2     136122          97 2017-01-08 10:05:00+00:00 2017-01-08 11:45:00+00:00   \n",
       "3     136130         107 2017-02-13 10:05:00+00:00 2017-02-13 11:45:00+00:00   \n",
       "4     136131         124 2017-01-28 10:05:00+00:00 2017-01-28 11:45:00+00:00   \n",
       "\n",
       "   total_amount   latitude  longitude airport_code           model  \\\n",
       "0     1653000.0  55.972599    37.4146          SVO  Boeing 737-300   \n",
       "1     1605400.0  55.972599    37.4146          SVO  Boeing 737-300   \n",
       "2     1431000.0  55.972599    37.4146          SVO  Boeing 737-300   \n",
       "3     1556600.0  55.972599    37.4146          SVO  Boeing 737-300   \n",
       "4     1812800.0  55.972599    37.4146          SVO  Boeing 737-300   \n",
       "\n",
       "   availableseats  ...   distance_t  scheduled_departure_month  flight_time  \\\n",
       "0             130  ...  1220.488778                          1        100.0   \n",
       "1             130  ...  1220.488778                          2        100.0   \n",
       "2             130  ...  1220.488778                          1        100.0   \n",
       "3             130  ...  1220.488778                          2        100.0   \n",
       "4             130  ...  1220.488778                          1        100.0   \n",
       "\n",
       "   Empty seats    total  fuel_consumption  fuel_price  Cost(Flights)  \\\n",
       "0        86.92  16530.0              2600       41435      179551.67   \n",
       "1        83.85  16054.0              2600       39553      171396.33   \n",
       "2        74.62  14310.0              2600       41435      179551.67   \n",
       "3        82.31  15566.0              2600       39553      171396.33   \n",
       "4        95.38  18128.0              2600       41435      179551.67   \n",
       "\n",
       "       Profit  Profit(min)  \n",
       "0  1473448.33   14734.4833  \n",
       "1  1434003.67   14340.0367  \n",
       "2  1251448.33   12514.4833  \n",
       "3  1385203.67   13852.0367  \n",
       "4  1633248.33   16332.4833  \n",
       "\n",
       "[5 rows x 21 columns]"
      ]
     },
     "execution_count": 25,
     "metadata": {},
     "output_type": "execute_result"
    }
   ],
   "source": [
    "df.head(5)"
   ]
  },
  {
   "cell_type": "markdown",
   "metadata": {},
   "source": [
    "# Correlation between Sold tickets and Profit per min (Depending on Sold Tickets and Fuel Cost)"
   ]
  },
  {
   "cell_type": "code",
   "execution_count": 28,
   "metadata": {},
   "outputs": [
    {
     "data": {
      "image/png": "[encoded data removed]",
      "text/plain": [
       "<Figure size 576x396 with 1 Axes>"
      ]
     },
     "metadata": {},
     "output_type": "display_data"
    }
   ],
   "source": [
    "texts = []\n",
    "x1 = df['Profit(min)']\n",
    "x2 = df['sold_seats']\n",
    "x3 = df['flight_id']\n",
    "x4= df['scheduled_departure_month']\n",
    "t = df.total_amount\n",
    "x5 = df['Empty seats']\n",
    "fig, ax = plt.subplots()\n",
    "p1 = sns.scatterplot(x=x2,\n",
    "                     y=x1,\n",
    "                     data=df,\n",
    "                     hue='model',\n",
    "                     s=100,\n",
    "                     alpha=0.7,\n",
    "                     edgecolor='k')\n",
    "plt.show()"
   ]
  },
  {
   "cell_type": "markdown",
   "metadata": {},
   "source": [
    "# List of Flights(To Cancel )"
   ]
  },
  {
   "cell_type": "code",
   "execution_count": 29,
   "metadata": {},
   "outputs": [
    {
     "data": {
      "text/html": [
       "<div>\n",
       "<style scoped>\n",
       "    .dataframe tbody tr th:only-of-type {\n",
       "        vertical-align: middle;\n",
       "    }\n",
       "\n",
       "    .dataframe tbody tr th {\n",
       "        vertical-align: top;\n",
       "    }\n",
       "\n",
       "    .dataframe thead th {\n",
       "        text-align: right;\n",
       "    }\n",
       "</style>\n",
       "<table border=\"1\" class=\"dataframe\">\n",
       "  <thead>\n",
       "    <tr style=\"text-align: right;\">\n",
       "      <th></th>\n",
       "      <th>flight_id</th>\n",
       "      <th>sold_seats</th>\n",
       "      <th>scheduled_departure</th>\n",
       "      <th>scheduled_arrival</th>\n",
       "      <th>total_amount</th>\n",
       "      <th>latitude</th>\n",
       "      <th>longitude</th>\n",
       "      <th>airport_code</th>\n",
       "      <th>model</th>\n",
       "      <th>availableseats</th>\n",
       "      <th>...</th>\n",
       "      <th>distance_t</th>\n",
       "      <th>scheduled_departure_month</th>\n",
       "      <th>flight_time</th>\n",
       "      <th>Empty seats</th>\n",
       "      <th>total</th>\n",
       "      <th>fuel_consumption</th>\n",
       "      <th>fuel_price</th>\n",
       "      <th>Cost(Flights)</th>\n",
       "      <th>Profit</th>\n",
       "      <th>Profit(min)</th>\n",
       "    </tr>\n",
       "  </thead>\n",
       "  <tbody>\n",
       "    <tr>\n",
       "      <th>2</th>\n",
       "      <td>136122</td>\n",
       "      <td>97</td>\n",
       "      <td>2017-01-08 10:05:00+00:00</td>\n",
       "      <td>2017-01-08 11:45:00+00:00</td>\n",
       "      <td>1431000.0</td>\n",
       "      <td>55.972599</td>\n",
       "      <td>37.414600</td>\n",
       "      <td>SVO</td>\n",
       "      <td>Boeing 737-300</td>\n",
       "      <td>130</td>\n",
       "      <td>...</td>\n",
       "      <td>1220.488778</td>\n",
       "      <td>1</td>\n",
       "      <td>100.0</td>\n",
       "      <td>74.62</td>\n",
       "      <td>14310.0</td>\n",
       "      <td>2600</td>\n",
       "      <td>41435</td>\n",
       "      <td>179551.67</td>\n",
       "      <td>1251448.33</td>\n",
       "      <td>12514.4833</td>\n",
       "    </tr>\n",
       "    <tr>\n",
       "      <th>12</th>\n",
       "      <td>136178</td>\n",
       "      <td>99</td>\n",
       "      <td>2017-01-29 10:05:00+00:00</td>\n",
       "      <td>2017-01-29 11:45:00+00:00</td>\n",
       "      <td>1434600.0</td>\n",
       "      <td>55.972599</td>\n",
       "      <td>37.414600</td>\n",
       "      <td>SVO</td>\n",
       "      <td>Boeing 737-300</td>\n",
       "      <td>130</td>\n",
       "      <td>...</td>\n",
       "      <td>1220.488778</td>\n",
       "      <td>1</td>\n",
       "      <td>100.0</td>\n",
       "      <td>76.15</td>\n",
       "      <td>14346.0</td>\n",
       "      <td>2600</td>\n",
       "      <td>41435</td>\n",
       "      <td>179551.67</td>\n",
       "      <td>1255048.33</td>\n",
       "      <td>12550.4833</td>\n",
       "    </tr>\n",
       "    <tr>\n",
       "      <th>16</th>\n",
       "      <td>136204</td>\n",
       "      <td>107</td>\n",
       "      <td>2017-02-23 10:05:00+00:00</td>\n",
       "      <td>2017-02-23 11:45:00+00:00</td>\n",
       "      <td>1457800.0</td>\n",
       "      <td>55.972599</td>\n",
       "      <td>37.414600</td>\n",
       "      <td>SVO</td>\n",
       "      <td>Boeing 737-300</td>\n",
       "      <td>130</td>\n",
       "      <td>...</td>\n",
       "      <td>1220.488778</td>\n",
       "      <td>2</td>\n",
       "      <td>100.0</td>\n",
       "      <td>82.31</td>\n",
       "      <td>14578.0</td>\n",
       "      <td>2600</td>\n",
       "      <td>39553</td>\n",
       "      <td>171396.33</td>\n",
       "      <td>1286403.67</td>\n",
       "      <td>12864.0367</td>\n",
       "    </tr>\n",
       "    <tr>\n",
       "      <th>21</th>\n",
       "      <td>136250</td>\n",
       "      <td>99</td>\n",
       "      <td>2017-02-08 10:05:00+00:00</td>\n",
       "      <td>2017-02-08 11:45:00+00:00</td>\n",
       "      <td>1407800.0</td>\n",
       "      <td>55.972599</td>\n",
       "      <td>37.414600</td>\n",
       "      <td>SVO</td>\n",
       "      <td>Boeing 737-300</td>\n",
       "      <td>130</td>\n",
       "      <td>...</td>\n",
       "      <td>1220.488778</td>\n",
       "      <td>2</td>\n",
       "      <td>100.0</td>\n",
       "      <td>76.15</td>\n",
       "      <td>14078.0</td>\n",
       "      <td>2600</td>\n",
       "      <td>39553</td>\n",
       "      <td>171396.33</td>\n",
       "      <td>1236403.67</td>\n",
       "      <td>12364.0367</td>\n",
       "    </tr>\n",
       "    <tr>\n",
       "      <th>38</th>\n",
       "      <td>136360</td>\n",
       "      <td>97</td>\n",
       "      <td>2017-02-05 10:05:00+00:00</td>\n",
       "      <td>2017-02-05 11:45:00+00:00</td>\n",
       "      <td>1455400.0</td>\n",
       "      <td>55.972599</td>\n",
       "      <td>37.414600</td>\n",
       "      <td>SVO</td>\n",
       "      <td>Boeing 737-300</td>\n",
       "      <td>130</td>\n",
       "      <td>...</td>\n",
       "      <td>1220.488778</td>\n",
       "      <td>2</td>\n",
       "      <td>100.0</td>\n",
       "      <td>74.62</td>\n",
       "      <td>14554.0</td>\n",
       "      <td>2600</td>\n",
       "      <td>39553</td>\n",
       "      <td>171396.33</td>\n",
       "      <td>1284003.67</td>\n",
       "      <td>12840.0367</td>\n",
       "    </tr>\n",
       "    <tr>\n",
       "      <th>54</th>\n",
       "      <td>136464</td>\n",
       "      <td>100</td>\n",
       "      <td>2017-01-09 10:05:00+00:00</td>\n",
       "      <td>2017-01-09 11:45:00+00:00</td>\n",
       "      <td>1398000.0</td>\n",
       "      <td>55.972599</td>\n",
       "      <td>37.414600</td>\n",
       "      <td>SVO</td>\n",
       "      <td>Boeing 737-300</td>\n",
       "      <td>130</td>\n",
       "      <td>...</td>\n",
       "      <td>1220.488778</td>\n",
       "      <td>1</td>\n",
       "      <td>100.0</td>\n",
       "      <td>76.92</td>\n",
       "      <td>13980.0</td>\n",
       "      <td>2600</td>\n",
       "      <td>41435</td>\n",
       "      <td>179551.67</td>\n",
       "      <td>1218448.33</td>\n",
       "      <td>12184.4833</td>\n",
       "    </tr>\n",
       "    <tr>\n",
       "      <th>68</th>\n",
       "      <td>136642</td>\n",
       "      <td>64</td>\n",
       "      <td>2017-01-30 09:25:00+00:00</td>\n",
       "      <td>2017-01-30 10:15:00+00:00</td>\n",
       "      <td>531000.0</td>\n",
       "      <td>50.643799</td>\n",
       "      <td>36.590099</td>\n",
       "      <td>EGO</td>\n",
       "      <td>Sukhoi Superjet-100</td>\n",
       "      <td>97</td>\n",
       "      <td>...</td>\n",
       "      <td>630.309277</td>\n",
       "      <td>1</td>\n",
       "      <td>50.0</td>\n",
       "      <td>65.98</td>\n",
       "      <td>10620.0</td>\n",
       "      <td>1700</td>\n",
       "      <td>41435</td>\n",
       "      <td>58699.58</td>\n",
       "      <td>472300.42</td>\n",
       "      <td>9446.0084</td>\n",
       "    </tr>\n",
       "    <tr>\n",
       "      <th>93</th>\n",
       "      <td>136807</td>\n",
       "      <td>68</td>\n",
       "      <td>2017-02-23 09:25:00+00:00</td>\n",
       "      <td>2017-02-23 10:15:00+00:00</td>\n",
       "      <td>531000.0</td>\n",
       "      <td>50.643799</td>\n",
       "      <td>36.590099</td>\n",
       "      <td>EGO</td>\n",
       "      <td>Sukhoi Superjet-100</td>\n",
       "      <td>97</td>\n",
       "      <td>...</td>\n",
       "      <td>630.309277</td>\n",
       "      <td>2</td>\n",
       "      <td>50.0</td>\n",
       "      <td>70.10</td>\n",
       "      <td>10620.0</td>\n",
       "      <td>1700</td>\n",
       "      <td>39553</td>\n",
       "      <td>56033.42</td>\n",
       "      <td>474966.58</td>\n",
       "      <td>9499.3316</td>\n",
       "    </tr>\n",
       "  </tbody>\n",
       "</table>\n",
       "<p>8 rows × 21 columns</p>\n",
       "</div>"
      ],
      "text/plain": [
       "    flight_id  sold_seats       scheduled_departure         scheduled_arrival  \\\n",
       "2      136122          97 2017-01-08 10:05:00+00:00 2017-01-08 11:45:00+00:00   \n",
       "12     136178          99 2017-01-29 10:05:00+00:00 2017-01-29 11:45:00+00:00   \n",
       "16     136204         107 2017-02-23 10:05:00+00:00 2017-02-23 11:45:00+00:00   \n",
       "21     136250          99 2017-02-08 10:05:00+00:00 2017-02-08 11:45:00+00:00   \n",
       "38     136360          97 2017-02-05 10:05:00+00:00 2017-02-05 11:45:00+00:00   \n",
       "54     136464         100 2017-01-09 10:05:00+00:00 2017-01-09 11:45:00+00:00   \n",
       "68     136642          64 2017-01-30 09:25:00+00:00 2017-01-30 10:15:00+00:00   \n",
       "93     136807          68 2017-02-23 09:25:00+00:00 2017-02-23 10:15:00+00:00   \n",
       "\n",
       "    total_amount   latitude  longitude airport_code                model  \\\n",
       "2      1431000.0  55.972599  37.414600          SVO       Boeing 737-300   \n",
       "12     1434600.0  55.972599  37.414600          SVO       Boeing 737-300   \n",
       "16     1457800.0  55.972599  37.414600          SVO       Boeing 737-300   \n",
       "21     1407800.0  55.972599  37.414600          SVO       Boeing 737-300   \n",
       "38     1455400.0  55.972599  37.414600          SVO       Boeing 737-300   \n",
       "54     1398000.0  55.972599  37.414600          SVO       Boeing 737-300   \n",
       "68      531000.0  50.643799  36.590099          EGO  Sukhoi Superjet-100   \n",
       "93      531000.0  50.643799  36.590099          EGO  Sukhoi Superjet-100   \n",
       "\n",
       "    availableseats  ...   distance_t  scheduled_departure_month  flight_time  \\\n",
       "2              130  ...  1220.488778                          1        100.0   \n",
       "12             130  ...  1220.488778                          1        100.0   \n",
       "16             130  ...  1220.488778                          2        100.0   \n",
       "21             130  ...  1220.488778                          2        100.0   \n",
       "38             130  ...  1220.488778                          2        100.0   \n",
       "54             130  ...  1220.488778                          1        100.0   \n",
       "68              97  ...   630.309277                          1         50.0   \n",
       "93              97  ...   630.309277                          2         50.0   \n",
       "\n",
       "    Empty seats    total  fuel_consumption  fuel_price  Cost(Flights)  \\\n",
       "2         74.62  14310.0              2600       41435      179551.67   \n",
       "12        76.15  14346.0              2600       41435      179551.67   \n",
       "16        82.31  14578.0              2600       39553      171396.33   \n",
       "21        76.15  14078.0              2600       39553      171396.33   \n",
       "38        74.62  14554.0              2600       39553      171396.33   \n",
       "54        76.92  13980.0              2600       41435      179551.67   \n",
       "68        65.98  10620.0              1700       41435       58699.58   \n",
       "93        70.10  10620.0              1700       39553       56033.42   \n",
       "\n",
       "        Profit  Profit(min)  \n",
       "2   1251448.33   12514.4833  \n",
       "12  1255048.33   12550.4833  \n",
       "16  1286403.67   12864.0367  \n",
       "21  1236403.67   12364.0367  \n",
       "38  1284003.67   12840.0367  \n",
       "54  1218448.33   12184.4833  \n",
       "68   472300.42    9446.0084  \n",
       "93   474966.58    9499.3316  \n",
       "\n",
       "[8 rows x 21 columns]"
      ]
     },
     "execution_count": 29,
     "metadata": {},
     "output_type": "execute_result"
    }
   ],
   "source": [
    "df[(df.total_amount < 1460000) & (df.model == \"Boeing 737-300\") | (df['Empty seats'] < 75)]"
   ]
  },
  {
   "cell_type": "code",
   "execution_count": 32,
   "metadata": {},
   "outputs": [
    {
     "data": {
      "text/plain": [
       "125073878.25"
      ]
     },
     "execution_count": 32,
     "metadata": {},
     "output_type": "execute_result"
    }
   ],
   "source": [
    "df['Profit'].sum()"
   ]
  },
  {
   "cell_type": "code",
   "execution_count": 30,
   "metadata": {},
   "outputs": [
    {
     "data": {
      "text/plain": [
       "[136122, 136178, 136204, 136250, 136360, 136464, 136642, 136807]"
      ]
     },
     "execution_count": 30,
     "metadata": {},
     "output_type": "execute_result"
    }
   ],
   "source": [
    "df[(df.total_amount < 1460000) & (df.model == \"Boeing 737-300\") |\n",
    "   (df['Empty seats'] < 75)].flight_id.to_list()"
   ]
  }
 ],
 "metadata": {
  "kernelspec": {
   "display_name": "Python 3",
   "language": "python",
   "name": "python3"
  },
  "language_info": {
   "codemirror_mode": {
    "name": "ipython",
    "version": 3
   },
   "file_extension": ".py",
   "mimetype": "text/x-python",
   "name": "python",
   "nbconvert_exporter": "python",
   "pygments_lexer": "ipython3",
   "version": "3.8.5"
  }
 },
 "nbformat": 4,
 "nbformat_minor": 4
}
