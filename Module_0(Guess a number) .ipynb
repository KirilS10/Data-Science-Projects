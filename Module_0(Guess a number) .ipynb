{
 "cells": [
  {
   "cell_type": "code",
   "execution_count": 1,
   "metadata": {},
   "outputs": [
    {
     "name": "stdout",
     "output_type": "stream",
     "text": [
      "Ваш алгоритм угадывает число в среднем за 101 попыток\n",
      "Ваш алгоритм угадывает число в среднем за 30 попыток\n",
      "Ваш алгоритм угадывает число в среднем за 5 попыток\n"
     ]
    },
    {
     "data": {
      "text/plain": [
       "5"
      ]
     },
     "execution_count": 1,
     "metadata": {},
     "output_type": "execute_result"
    }
   ],
   "source": [
    "import numpy as np\n",
    "\n",
    "\n",
    "def game_core_v1(number):\n",
    "    \"\"\"Просто угадываем на random ни как не используя информацию о больше или меньше.\n",
    "       Функция Принимает загаданное число и возвращает число попыток\"\"\"\n",
    "    count = 0\n",
    "    while True:\n",
    "        count += 1\n",
    "        predict = np.random.randint(1, 101)  # предполагаемое число\n",
    "        if number == predict:\n",
    "            break\n",
    "    return count  # выход из цикла, если угадали\n",
    "\n",
    "\n",
    "def game_core_v2(number):\n",
    "    \"\"\"Сначала устанавливаем любое random число, а потом уменьшаем или увеличиваем его\n",
    "       в зависимости от того, больше оно или меньше нужного.\n",
    "       Функция принимает загаданное число и возвращает число попыток\"\"\"\n",
    "    count = 0\n",
    "    predict = np.random.randint(1, 100)\n",
    "    while number != predict:\n",
    "        count += 1\n",
    "        if number > predict:\n",
    "            predict += 1\n",
    "        elif number < predict:\n",
    "            predict -= 1\n",
    "    return count  # выход из цикла, если угадали\n",
    "\n",
    "#--------------------------------------------------------------------\n",
    "\n",
    "def game_core_v3(number):\n",
    "    count = 0\n",
    "    begin = 1\n",
    "    end = 100\n",
    "    \n",
    "    while True:\n",
    "        predict = (begin + end )//2 # lets find the midpoint of the interval \n",
    "        count += 1\n",
    "        if number > predict:\n",
    "            begin = predict + 1 # if the number  is lower than the midpoint, the algorithm starts to count from the beginning of the interval until the midpoint(in our case :from 1 -50 ) \n",
    "        elif number < predict:\n",
    "            end = predict - 1 # if the number is higher then the midpoint , the algorithm starts to count from the end of the iterval to the midpoint (in our case: from 100 - 50 )\n",
    "        else:\n",
    "            break           # so, the main idea of this algorithm its to narrow down our field of search by dividing our interval in half\n",
    "    return count \n",
    "\n",
    "#--------------------------------------------------------------------\n",
    "\n",
    "def score_game(game_core):\n",
    "    \"\"\"Запускаем игру 1000 раз, чтоб узнать как быстро игра угадывает число\"\"\"\n",
    "    count_ls = []\n",
    "    np.random.seed(1)  # фиксируем RANDOM SEED, чтобы ваш эксперимент был воспроизводим!\n",
    "    random_array = np.random.randint(1, 101, size=1000)\n",
    "    for number in random_array:\n",
    "        count_ls.append(game_core(number))\n",
    "    score = int(np.mean(count_ls))\n",
    "    print(f\"Ваш алгоритм угадывает число в среднем за {score} попыток\")\n",
    "    return score\n",
    "\n",
    "\n",
    "\n",
    "score_game(game_core_v1)\n",
    "score_game(game_core_v2)\n",
    "score_game(game_core_v3)"
   ]
  },
  {
   "cell_type": "code",
   "execution_count": null,
   "metadata": {},
   "outputs": [],
   "source": []
  }
 ],
 "metadata": {
  "kernelspec": {
   "display_name": "Python 3",
   "language": "python",
   "name": "python3"
  },
  "language_info": {
   "codemirror_mode": {
    "name": "ipython",
    "version": 3
   },
   "file_extension": ".py",
   "mimetype": "text/x-python",
   "name": "python",
   "nbconvert_exporter": "python",
   "pygments_lexer": "ipython3",
   "version": "3.8.3"
  }
 },
 "nbformat": 4,
 "nbformat_minor": 4
}
