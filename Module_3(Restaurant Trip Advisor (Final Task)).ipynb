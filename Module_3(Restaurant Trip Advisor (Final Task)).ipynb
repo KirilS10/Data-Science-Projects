{
 "cells": [
  {
   "cell_type": "code",
   "execution_count": 1,
   "metadata": {},
   "outputs": [],
   "source": [
    "from collections import Counter\n",
    "import pandas as pd\n",
    "import re\n",
    "import datetime"
   ]
  },
  {
   "cell_type": "code",
   "execution_count": 2,
   "metadata": {},
   "outputs": [],
   "source": [
    "df = pd.read_csv('main_task.xls')"
   ]
  },
  {
   "cell_type": "code",
   "execution_count": 3,
   "metadata": {},
   "outputs": [
    {
     "data": {
      "text/html": [
       "<div>\n",
       "<style scoped>\n",
       "    .dataframe tbody tr th:only-of-type {\n",
       "        vertical-align: middle;\n",
       "    }\n",
       "\n",
       "    .dataframe tbody tr th {\n",
       "        vertical-align: top;\n",
       "    }\n",
       "\n",
       "    .dataframe thead th {\n",
       "        text-align: right;\n",
       "    }\n",
       "</style>\n",
       "<table border=\"1\" class=\"dataframe\">\n",
       "  <thead>\n",
       "    <tr style=\"text-align: right;\">\n",
       "      <th></th>\n",
       "      <th>Restaurant_id</th>\n",
       "      <th>City</th>\n",
       "      <th>Cuisine Style</th>\n",
       "      <th>Ranking</th>\n",
       "      <th>Rating</th>\n",
       "      <th>Price Range</th>\n",
       "      <th>Number of Reviews</th>\n",
       "      <th>Reviews</th>\n",
       "      <th>URL_TA</th>\n",
       "      <th>ID_TA</th>\n",
       "    </tr>\n",
       "  </thead>\n",
       "  <tbody>\n",
       "    <tr>\n",
       "      <th>0</th>\n",
       "      <td>id_5569</td>\n",
       "      <td>Paris</td>\n",
       "      <td>['European', 'French', 'International']</td>\n",
       "      <td>5570.0</td>\n",
       "      <td>3.5</td>\n",
       "      <td>$$ - $$$</td>\n",
       "      <td>194.0</td>\n",
       "      <td>[['Good food at your doorstep', 'A good hotel ...</td>\n",
       "      <td>/Restaurant_Review-g187147-d1912643-Reviews-R_...</td>\n",
       "      <td>d1912643</td>\n",
       "    </tr>\n",
       "    <tr>\n",
       "      <th>1</th>\n",
       "      <td>id_1535</td>\n",
       "      <td>Stockholm</td>\n",
       "      <td>NaN</td>\n",
       "      <td>1537.0</td>\n",
       "      <td>4.0</td>\n",
       "      <td>NaN</td>\n",
       "      <td>10.0</td>\n",
       "      <td>[['Unique cuisine', 'Delicious Nepalese food']...</td>\n",
       "      <td>/Restaurant_Review-g189852-d7992032-Reviews-Bu...</td>\n",
       "      <td>d7992032</td>\n",
       "    </tr>\n",
       "    <tr>\n",
       "      <th>2</th>\n",
       "      <td>id_352</td>\n",
       "      <td>London</td>\n",
       "      <td>['Japanese', 'Sushi', 'Asian', 'Grill', 'Veget...</td>\n",
       "      <td>353.0</td>\n",
       "      <td>4.5</td>\n",
       "      <td>$$$$</td>\n",
       "      <td>688.0</td>\n",
       "      <td>[['Catch up with friends', 'Not exceptional'],...</td>\n",
       "      <td>/Restaurant_Review-g186338-d8632781-Reviews-RO...</td>\n",
       "      <td>d8632781</td>\n",
       "    </tr>\n",
       "    <tr>\n",
       "      <th>3</th>\n",
       "      <td>id_3456</td>\n",
       "      <td>Berlin</td>\n",
       "      <td>NaN</td>\n",
       "      <td>3458.0</td>\n",
       "      <td>5.0</td>\n",
       "      <td>NaN</td>\n",
       "      <td>3.0</td>\n",
       "      <td>[[], []]</td>\n",
       "      <td>/Restaurant_Review-g187323-d1358776-Reviews-Es...</td>\n",
       "      <td>d1358776</td>\n",
       "    </tr>\n",
       "    <tr>\n",
       "      <th>4</th>\n",
       "      <td>id_615</td>\n",
       "      <td>Munich</td>\n",
       "      <td>['German', 'Central European', 'Vegetarian Fri...</td>\n",
       "      <td>621.0</td>\n",
       "      <td>4.0</td>\n",
       "      <td>$$ - $$$</td>\n",
       "      <td>84.0</td>\n",
       "      <td>[['Best place to try a Bavarian food', 'Nice b...</td>\n",
       "      <td>/Restaurant_Review-g187309-d6864963-Reviews-Au...</td>\n",
       "      <td>d6864963</td>\n",
       "    </tr>\n",
       "    <tr>\n",
       "      <th>...</th>\n",
       "      <td>...</td>\n",
       "      <td>...</td>\n",
       "      <td>...</td>\n",
       "      <td>...</td>\n",
       "      <td>...</td>\n",
       "      <td>...</td>\n",
       "      <td>...</td>\n",
       "      <td>...</td>\n",
       "      <td>...</td>\n",
       "      <td>...</td>\n",
       "    </tr>\n",
       "    <tr>\n",
       "      <th>39995</th>\n",
       "      <td>id_499</td>\n",
       "      <td>Milan</td>\n",
       "      <td>['Italian', 'Vegetarian Friendly', 'Vegan Opti...</td>\n",
       "      <td>500.0</td>\n",
       "      <td>4.5</td>\n",
       "      <td>$$ - $$$</td>\n",
       "      <td>79.0</td>\n",
       "      <td>[['The real Italian experience!', 'Wonderful f...</td>\n",
       "      <td>/Restaurant_Review-g187849-d2104414-Reviews-Ro...</td>\n",
       "      <td>d2104414</td>\n",
       "    </tr>\n",
       "    <tr>\n",
       "      <th>39996</th>\n",
       "      <td>id_6340</td>\n",
       "      <td>Paris</td>\n",
       "      <td>['French', 'American', 'Bar', 'European', 'Veg...</td>\n",
       "      <td>6341.0</td>\n",
       "      <td>3.5</td>\n",
       "      <td>$$ - $$$</td>\n",
       "      <td>542.0</td>\n",
       "      <td>[['Parisian atmosphere', 'Bit pricey but inter...</td>\n",
       "      <td>/Restaurant_Review-g187147-d1800036-Reviews-La...</td>\n",
       "      <td>d1800036</td>\n",
       "    </tr>\n",
       "    <tr>\n",
       "      <th>39997</th>\n",
       "      <td>id_1649</td>\n",
       "      <td>Stockholm</td>\n",
       "      <td>['Japanese', 'Sushi']</td>\n",
       "      <td>1652.0</td>\n",
       "      <td>4.5</td>\n",
       "      <td>NaN</td>\n",
       "      <td>4.0</td>\n",
       "      <td>[['Good by swedish standards', 'A hidden jewel...</td>\n",
       "      <td>/Restaurant_Review-g189852-d947615-Reviews-Sus...</td>\n",
       "      <td>d947615</td>\n",
       "    </tr>\n",
       "    <tr>\n",
       "      <th>39998</th>\n",
       "      <td>id_640</td>\n",
       "      <td>Warsaw</td>\n",
       "      <td>['Polish', 'European', 'Eastern European', 'Ce...</td>\n",
       "      <td>641.0</td>\n",
       "      <td>4.0</td>\n",
       "      <td>$$ - $$$</td>\n",
       "      <td>70.0</td>\n",
       "      <td>[['Underground restaurant', 'Oldest Restaurant...</td>\n",
       "      <td>/Restaurant_Review-g274856-d1100838-Reviews-Ho...</td>\n",
       "      <td>d1100838</td>\n",
       "    </tr>\n",
       "    <tr>\n",
       "      <th>39999</th>\n",
       "      <td>id_4824</td>\n",
       "      <td>Milan</td>\n",
       "      <td>['Spanish']</td>\n",
       "      <td>4827.0</td>\n",
       "      <td>3.0</td>\n",
       "      <td>$$ - $$$</td>\n",
       "      <td>260.0</td>\n",
       "      <td>[['Average', 'Nice an informal'], ['01/31/2016...</td>\n",
       "      <td>/Restaurant_Review-g187849-d1109020-Reviews-Ta...</td>\n",
       "      <td>d1109020</td>\n",
       "    </tr>\n",
       "  </tbody>\n",
       "</table>\n",
       "<p>40000 rows × 10 columns</p>\n",
       "</div>"
      ],
      "text/plain": [
       "      Restaurant_id       City  \\\n",
       "0           id_5569      Paris   \n",
       "1           id_1535  Stockholm   \n",
       "2            id_352     London   \n",
       "3           id_3456     Berlin   \n",
       "4            id_615     Munich   \n",
       "...             ...        ...   \n",
       "39995        id_499      Milan   \n",
       "39996       id_6340      Paris   \n",
       "39997       id_1649  Stockholm   \n",
       "39998        id_640     Warsaw   \n",
       "39999       id_4824      Milan   \n",
       "\n",
       "                                           Cuisine Style  Ranking  Rating  \\\n",
       "0                ['European', 'French', 'International']   5570.0     3.5   \n",
       "1                                                    NaN   1537.0     4.0   \n",
       "2      ['Japanese', 'Sushi', 'Asian', 'Grill', 'Veget...    353.0     4.5   \n",
       "3                                                    NaN   3458.0     5.0   \n",
       "4      ['German', 'Central European', 'Vegetarian Fri...    621.0     4.0   \n",
       "...                                                  ...      ...     ...   \n",
       "39995  ['Italian', 'Vegetarian Friendly', 'Vegan Opti...    500.0     4.5   \n",
       "39996  ['French', 'American', 'Bar', 'European', 'Veg...   6341.0     3.5   \n",
       "39997                              ['Japanese', 'Sushi']   1652.0     4.5   \n",
       "39998  ['Polish', 'European', 'Eastern European', 'Ce...    641.0     4.0   \n",
       "39999                                        ['Spanish']   4827.0     3.0   \n",
       "\n",
       "      Price Range  Number of Reviews  \\\n",
       "0        $$ - $$$              194.0   \n",
       "1             NaN               10.0   \n",
       "2            $$$$              688.0   \n",
       "3             NaN                3.0   \n",
       "4        $$ - $$$               84.0   \n",
       "...           ...                ...   \n",
       "39995    $$ - $$$               79.0   \n",
       "39996    $$ - $$$              542.0   \n",
       "39997         NaN                4.0   \n",
       "39998    $$ - $$$               70.0   \n",
       "39999    $$ - $$$              260.0   \n",
       "\n",
       "                                                 Reviews  \\\n",
       "0      [['Good food at your doorstep', 'A good hotel ...   \n",
       "1      [['Unique cuisine', 'Delicious Nepalese food']...   \n",
       "2      [['Catch up with friends', 'Not exceptional'],...   \n",
       "3                                               [[], []]   \n",
       "4      [['Best place to try a Bavarian food', 'Nice b...   \n",
       "...                                                  ...   \n",
       "39995  [['The real Italian experience!', 'Wonderful f...   \n",
       "39996  [['Parisian atmosphere', 'Bit pricey but inter...   \n",
       "39997  [['Good by swedish standards', 'A hidden jewel...   \n",
       "39998  [['Underground restaurant', 'Oldest Restaurant...   \n",
       "39999  [['Average', 'Nice an informal'], ['01/31/2016...   \n",
       "\n",
       "                                                  URL_TA     ID_TA  \n",
       "0      /Restaurant_Review-g187147-d1912643-Reviews-R_...  d1912643  \n",
       "1      /Restaurant_Review-g189852-d7992032-Reviews-Bu...  d7992032  \n",
       "2      /Restaurant_Review-g186338-d8632781-Reviews-RO...  d8632781  \n",
       "3      /Restaurant_Review-g187323-d1358776-Reviews-Es...  d1358776  \n",
       "4      /Restaurant_Review-g187309-d6864963-Reviews-Au...  d6864963  \n",
       "...                                                  ...       ...  \n",
       "39995  /Restaurant_Review-g187849-d2104414-Reviews-Ro...  d2104414  \n",
       "39996  /Restaurant_Review-g187147-d1800036-Reviews-La...  d1800036  \n",
       "39997  /Restaurant_Review-g189852-d947615-Reviews-Sus...   d947615  \n",
       "39998  /Restaurant_Review-g274856-d1100838-Reviews-Ho...  d1100838  \n",
       "39999  /Restaurant_Review-g187849-d1109020-Reviews-Ta...  d1109020  \n",
       "\n",
       "[40000 rows x 10 columns]"
      ]
     },
     "execution_count": 3,
     "metadata": {},
     "output_type": "execute_result"
    }
   ],
   "source": [
    "df"
   ]
  },
  {
   "cell_type": "code",
   "execution_count": 4,
   "metadata": {},
   "outputs": [
    {
     "name": "stdout",
     "output_type": "stream",
     "text": [
      "<class 'pandas.core.frame.DataFrame'>\n",
      "RangeIndex: 40000 entries, 0 to 39999\n",
      "Data columns (total 10 columns):\n",
      " #   Column             Non-Null Count  Dtype  \n",
      "---  ------             --------------  -----  \n",
      " 0   Restaurant_id      40000 non-null  object \n",
      " 1   City               40000 non-null  object \n",
      " 2   Cuisine Style      30717 non-null  object \n",
      " 3   Ranking            40000 non-null  float64\n",
      " 4   Rating             40000 non-null  float64\n",
      " 5   Price Range        26114 non-null  object \n",
      " 6   Number of Reviews  37457 non-null  float64\n",
      " 7   Reviews            40000 non-null  object \n",
      " 8   URL_TA             40000 non-null  object \n",
      " 9   ID_TA              40000 non-null  object \n",
      "dtypes: float64(3), object(7)\n",
      "memory usage: 3.1+ MB\n"
     ]
    }
   ],
   "source": [
    "df.info()"
   ]
  },
  {
   "cell_type": "code",
   "execution_count": 5,
   "metadata": {},
   "outputs": [
    {
     "data": {
      "text/plain": [
       "Restaurant_id         object\n",
       "City                  object\n",
       "Cuisine Style         object\n",
       "Ranking              float64\n",
       "Rating               float64\n",
       "Price Range           object\n",
       "Number of Reviews    float64\n",
       "Reviews               object\n",
       "URL_TA                object\n",
       "ID_TA                 object\n",
       "dtype: object"
      ]
     },
     "execution_count": 5,
     "metadata": {},
     "output_type": "execute_result"
    }
   ],
   "source": [
    "df.dtypes"
   ]
  },
  {
   "cell_type": "code",
   "execution_count": 6,
   "metadata": {},
   "outputs": [],
   "source": [
    "def price_range(x):\n",
    "    if x == \"$$ - $$$\":\n",
    "        return 100\n",
    "    elif x == \"$$$$\":\n",
    "        return 1000\n",
    "    elif x == \"$\":\n",
    "        return 1\n",
    "    else:\n",
    "        return None"
   ]
  },
  {
   "cell_type": "code",
   "execution_count": 7,
   "metadata": {},
   "outputs": [
    {
     "name": "stdout",
     "output_type": "stream",
     "text": [
      "<class 'str'>\n",
      "<class 'str'>\n",
      "<class 'str'>\n",
      "<class 'numpy.float64'>\n",
      "<class 'numpy.float64'>\n",
      "<class 'str'>\n",
      "<class 'numpy.float64'>\n",
      "<class 'str'>\n",
      "<class 'str'>\n",
      "<class 'str'>\n"
     ]
    }
   ],
   "source": [
    "for column in df.columns:\n",
    "     print(type(df[column].iloc[0]))"
   ]
  },
  {
   "cell_type": "code",
   "execution_count": 8,
   "metadata": {},
   "outputs": [],
   "source": [
    "def data_d(dataframe):\n",
    "    for column in dataframe.columns:\n",
    "        try:\n",
    "            float(dataframe[column][0])\n",
    "        except Exception as ex:\n",
    "            print(ex)\n",
    "            dataframe.drop([column], axis=1, inplace=True)\n",
    "    return dataframe"
   ]
  },
  {
   "cell_type": "code",
   "execution_count": 9,
   "metadata": {},
   "outputs": [
    {
     "data": {
      "text/plain": [
       "$$ - $$$    18412\n",
       "$            6279\n",
       "$$$$         1423\n",
       "Name: Price Range, dtype: int64"
      ]
     },
     "execution_count": 9,
     "metadata": {},
     "output_type": "execute_result"
    }
   ],
   "source": [
    "df['Price Range'].value_counts()"
   ]
  },
  {
   "cell_type": "code",
   "execution_count": 10,
   "metadata": {},
   "outputs": [],
   "source": [
    "df['Price Range'] = df['Price Range'].apply(price_range)\n",
    "prices = pd.get_dummies(df['Price Range'])\n",
    "df = df.drop('Price Range', axis=1)\n",
    "df = df.join(prices)"
   ]
  },
  {
   "cell_type": "code",
   "execution_count": 11,
   "metadata": {},
   "outputs": [
    {
     "name": "stdout",
     "output_type": "stream",
     "text": [
      "<class 'pandas.core.frame.DataFrame'>\n",
      "RangeIndex: 40000 entries, 0 to 39999\n",
      "Data columns (total 42 columns):\n",
      " #   Column             Non-Null Count  Dtype  \n",
      "---  ------             --------------  -----  \n",
      " 0   Restaurant_id      40000 non-null  object \n",
      " 1   Cuisine Style      30717 non-null  object \n",
      " 2   Ranking            40000 non-null  float64\n",
      " 3   Rating             40000 non-null  float64\n",
      " 4   Number of Reviews  37457 non-null  float64\n",
      " 5   Reviews            40000 non-null  object \n",
      " 6   URL_TA             40000 non-null  object \n",
      " 7   ID_TA              40000 non-null  object \n",
      " 8   1.0                40000 non-null  uint8  \n",
      " 9   100.0              40000 non-null  uint8  \n",
      " 10  1000.0             40000 non-null  uint8  \n",
      " 11  Amsterdam          40000 non-null  uint8  \n",
      " 12  Athens             40000 non-null  uint8  \n",
      " 13  Barcelona          40000 non-null  uint8  \n",
      " 14  Berlin             40000 non-null  uint8  \n",
      " 15  Bratislava         40000 non-null  uint8  \n",
      " 16  Brussels           40000 non-null  uint8  \n",
      " 17  Budapest           40000 non-null  uint8  \n",
      " 18  Copenhagen         40000 non-null  uint8  \n",
      " 19  Dublin             40000 non-null  uint8  \n",
      " 20  Edinburgh          40000 non-null  uint8  \n",
      " 21  Geneva             40000 non-null  uint8  \n",
      " 22  Hamburg            40000 non-null  uint8  \n",
      " 23  Helsinki           40000 non-null  uint8  \n",
      " 24  Krakow             40000 non-null  uint8  \n",
      " 25  Lisbon             40000 non-null  uint8  \n",
      " 26  Ljubljana          40000 non-null  uint8  \n",
      " 27  London             40000 non-null  uint8  \n",
      " 28  Luxembourg         40000 non-null  uint8  \n",
      " 29  Lyon               40000 non-null  uint8  \n",
      " 30  Madrid             40000 non-null  uint8  \n",
      " 31  Milan              40000 non-null  uint8  \n",
      " 32  Munich             40000 non-null  uint8  \n",
      " 33  Oporto             40000 non-null  uint8  \n",
      " 34  Oslo               40000 non-null  uint8  \n",
      " 35  Paris              40000 non-null  uint8  \n",
      " 36  Prague             40000 non-null  uint8  \n",
      " 37  Rome               40000 non-null  uint8  \n",
      " 38  Stockholm          40000 non-null  uint8  \n",
      " 39  Vienna             40000 non-null  uint8  \n",
      " 40  Warsaw             40000 non-null  uint8  \n",
      " 41  Zurich             40000 non-null  uint8  \n",
      "dtypes: float64(3), object(5), uint8(34)\n",
      "memory usage: 3.7+ MB\n"
     ]
    }
   ],
   "source": [
    "cities = pd.get_dummies(df.City)\n",
    "df = df.drop('City', axis=1)\n",
    "df = df.join(cities)\n",
    "df.info()"
   ]
  },
  {
   "cell_type": "code",
   "execution_count": 12,
   "metadata": {},
   "outputs": [],
   "source": [
    "pattern = re.compile('\\d+/\\d+/\\d+')\n",
    "df['date_of_Review'] = df['Reviews'].apply(lambda x: re.findall(pattern, x))\n",
    "df['data_2'] = df['date_of_Review'].apply(lambda x: pd.to_datetime(x).max())\n",
    "df['data_1'] = df['date_of_Review'].apply(lambda x: pd.to_datetime(x).min())"
   ]
  },
  {
   "cell_type": "code",
   "execution_count": 13,
   "metadata": {},
   "outputs": [
    {
     "name": "stdout",
     "output_type": "stream",
     "text": [
      "2018-02-26 00:00:00\n",
      "3207.0\n"
     ]
    }
   ],
   "source": [
    "print(df.data_2.max())\n",
    "df[\"date_diff\"] = df.data_2 - df.data_1\n",
    "df[\"date_diff\"] = df.date_diff.apply(lambda x: float(x.days))\n",
    "print(df.date_diff.max())"
   ]
  },
  {
   "cell_type": "code",
   "execution_count": 14,
   "metadata": {},
   "outputs": [
    {
     "name": "stdout",
     "output_type": "stream",
     "text": [
      "['European', 'French', 'International']\n",
      "['Afghani', 'African', 'Albanian', 'American', 'Arabic', 'Argentinean', 'Armenian', 'Asian', 'Australian', 'Austrian', 'Azerbaijani', 'Balti', 'Bangladeshi', 'Bar', 'Barbecue', 'Belgian', 'Brazilian', 'Brew Pub', 'British', 'Burmese', 'Cafe', 'Cajun ', 'Cambodian', 'Canadian', 'Caribbean', 'Caucasian', 'Central American', 'Central Asian', 'Central European', 'Chilean', 'Chinese', 'Colombian', 'Contemporary', 'Creole', 'Croatian', 'Cuban', 'Czech', 'Danish', 'Delicatessen', 'Diner', 'Dutch', 'Eastern European', 'Ecuadorean', 'Egyptian', 'Ethiopian', 'European', 'Fast Food', 'Filipino', 'French', 'Fujian', 'Fusion', 'Gastropub', 'Georgian', 'German', 'Gluten Free Options', 'Greek', 'Grill', 'Halal', 'Hawaiian', 'Healthy', 'Hungarian', 'Indian', 'Indonesian', 'International', 'Irish', 'Israeli', 'Italian', 'Jamaican', 'Japanese', 'Korean', 'Kosher', 'Latin', 'Latvian', 'Lebanese', 'Malaysian', 'Mediterranean', 'Mexican', 'Middle Eastern', 'Minority Chinese', 'Mongolian', 'Moroccan', 'Native American', 'Nepali', 'New Zealand', 'Norwegian', 'Pakistani', 'Persian', 'Peruvian', 'Pizza', 'Polish', 'Polynesian', 'Portuguese', 'Pub', 'Romanian', 'Russian', 'Salvadoran', 'Scandinavian', 'Scottish', 'Seafood', 'Singaporean', 'Slovenian', 'Soups', 'South American', 'Southwestern', 'Spanish', 'Sri Lankan', 'Steakhouse', 'Street Food', 'Sushi', 'Swedish', 'Swiss', 'Taiwanese', 'Thai', 'Tibetan', 'Tunisian', 'Turkish', 'Ukrainian', 'Uzbek', 'Vegan Options', 'Vegetarian Friendly', 'Venezuelan', 'Vietnamese', 'Welsh', 'Wine Bar', 'Xinjiang', 'Yunnan']\n",
      "126\n",
      "[('Vegetarian Friendly', 11189)]\n",
      "2.6229\n"
     ]
    }
   ],
   "source": [
    "cuisine = Counter()\n",
    "cuisines = set()\n",
    "cuisines_variance = []\n",
    "pattern = re.compile(\"[a-zA-Z]+\\s*[a-zA-Z]*\\s*[a-zA-Z]*\\s*[a-zA-Z]*\\s*[a-zA-Z]*\\s*[a-zA-Z]*\\s*[a-zA-Z]*\")\n",
    "test = []\n",
    "for x in df['Cuisine Style']:\n",
    "    try:\n",
    "        test_d = re.findall(pattern, x)\n",
    "        for w in test_d:\n",
    "            cuisines.add(w)\n",
    "        test.append(test_d)\n",
    "    except:\n",
    "        test.append(['pass'])\n",
    "        pass\n",
    "print(test[0])\n",
    "for cell in test:\n",
    "    try:\n",
    "        cuisines_variance.append(len(cell))\n",
    "        for i in cell:\n",
    "            cuisine[i] += 1\n",
    "    except:\n",
    "        cuisines_variance.append(1)\n",
    "        pass\n",
    "df[\"cuisine_variance\"] = cuisines_variance\n",
    "print(sorted(cuisines))\n",
    "print(len(cuisines))\n",
    "print(cuisine.most_common(1))\n",
    "print(sum(cuisines_variance)/len(cuisines_variance))"
   ]
  },
  {
   "cell_type": "code",
   "execution_count": 15,
   "metadata": {},
   "outputs": [
    {
     "name": "stdout",
     "output_type": "stream",
     "text": [
      "could not convert string to float: 'id_5569'\n",
      "could not convert string to float: \"['European', 'French', 'International']\"\n",
      "could not convert string to float: \"[['Good food at your doorstep', 'A good hotel restaurant'], ['12/31/2017', '11/20/2017']]\"\n",
      "could not convert string to float: '/Restaurant_Review-g187147-d1912643-Reviews-R_Yves-Paris_Ile_de_France.html'\n",
      "could not convert string to float: 'd1912643'\n",
      "float() argument must be a string or a number, not 'list'\n",
      "float() argument must be a string or a number, not 'Timestamp'\n",
      "float() argument must be a string or a number, not 'Timestamp'\n",
      "<class 'pandas.core.frame.DataFrame'>\n",
      "RangeIndex: 40000 entries, 0 to 39999\n",
      "Data columns (total 39 columns):\n",
      " #   Column             Non-Null Count  Dtype  \n",
      "---  ------             --------------  -----  \n",
      " 0   Ranking            40000 non-null  float64\n",
      " 1   Rating             40000 non-null  float64\n",
      " 2   Number of Reviews  37457 non-null  float64\n",
      " 3   1.0                40000 non-null  uint8  \n",
      " 4   100.0              40000 non-null  uint8  \n",
      " 5   1000.0             40000 non-null  uint8  \n",
      " 6   Amsterdam          40000 non-null  uint8  \n",
      " 7   Athens             40000 non-null  uint8  \n",
      " 8   Barcelona          40000 non-null  uint8  \n",
      " 9   Berlin             40000 non-null  uint8  \n",
      " 10  Bratislava         40000 non-null  uint8  \n",
      " 11  Brussels           40000 non-null  uint8  \n",
      " 12  Budapest           40000 non-null  uint8  \n",
      " 13  Copenhagen         40000 non-null  uint8  \n",
      " 14  Dublin             40000 non-null  uint8  \n",
      " 15  Edinburgh          40000 non-null  uint8  \n",
      " 16  Geneva             40000 non-null  uint8  \n",
      " 17  Hamburg            40000 non-null  uint8  \n",
      " 18  Helsinki           40000 non-null  uint8  \n",
      " 19  Krakow             40000 non-null  uint8  \n",
      " 20  Lisbon             40000 non-null  uint8  \n",
      " 21  Ljubljana          40000 non-null  uint8  \n",
      " 22  London             40000 non-null  uint8  \n",
      " 23  Luxembourg         40000 non-null  uint8  \n",
      " 24  Lyon               40000 non-null  uint8  \n",
      " 25  Madrid             40000 non-null  uint8  \n",
      " 26  Milan              40000 non-null  uint8  \n",
      " 27  Munich             40000 non-null  uint8  \n",
      " 28  Oporto             40000 non-null  uint8  \n",
      " 29  Oslo               40000 non-null  uint8  \n",
      " 30  Paris              40000 non-null  uint8  \n",
      " 31  Prague             40000 non-null  uint8  \n",
      " 32  Rome               40000 non-null  uint8  \n",
      " 33  Stockholm          40000 non-null  uint8  \n",
      " 34  Vienna             40000 non-null  uint8  \n",
      " 35  Warsaw             40000 non-null  uint8  \n",
      " 36  Zurich             40000 non-null  uint8  \n",
      " 37  date_diff          33529 non-null  float64\n",
      " 38  cuisine_variance   40000 non-null  int64  \n",
      "dtypes: float64(4), int64(1), uint8(34)\n",
      "memory usage: 2.8 MB\n"
     ]
    }
   ],
   "source": [
    "df = data_d(df)\n",
    "df.info()"
   ]
  },
  {
   "cell_type": "code",
   "execution_count": 16,
   "metadata": {},
   "outputs": [],
   "source": [
    "df.fillna(df['Number of Reviews'].min(), inplace=True)"
   ]
  },
  {
   "cell_type": "code",
   "execution_count": 17,
   "metadata": {},
   "outputs": [
    {
     "name": "stdout",
     "output_type": "stream",
     "text": [
      "<class 'pandas.core.frame.DataFrame'>\n",
      "RangeIndex: 40000 entries, 0 to 39999\n",
      "Data columns (total 39 columns):\n",
      " #   Column             Non-Null Count  Dtype  \n",
      "---  ------             --------------  -----  \n",
      " 0   Ranking            40000 non-null  float64\n",
      " 1   Rating             40000 non-null  float64\n",
      " 2   Number of Reviews  40000 non-null  float64\n",
      " 3   1.0                40000 non-null  uint8  \n",
      " 4   100.0              40000 non-null  uint8  \n",
      " 5   1000.0             40000 non-null  uint8  \n",
      " 6   Amsterdam          40000 non-null  uint8  \n",
      " 7   Athens             40000 non-null  uint8  \n",
      " 8   Barcelona          40000 non-null  uint8  \n",
      " 9   Berlin             40000 non-null  uint8  \n",
      " 10  Bratislava         40000 non-null  uint8  \n",
      " 11  Brussels           40000 non-null  uint8  \n",
      " 12  Budapest           40000 non-null  uint8  \n",
      " 13  Copenhagen         40000 non-null  uint8  \n",
      " 14  Dublin             40000 non-null  uint8  \n",
      " 15  Edinburgh          40000 non-null  uint8  \n",
      " 16  Geneva             40000 non-null  uint8  \n",
      " 17  Hamburg            40000 non-null  uint8  \n",
      " 18  Helsinki           40000 non-null  uint8  \n",
      " 19  Krakow             40000 non-null  uint8  \n",
      " 20  Lisbon             40000 non-null  uint8  \n",
      " 21  Ljubljana          40000 non-null  uint8  \n",
      " 22  London             40000 non-null  uint8  \n",
      " 23  Luxembourg         40000 non-null  uint8  \n",
      " 24  Lyon               40000 non-null  uint8  \n",
      " 25  Madrid             40000 non-null  uint8  \n",
      " 26  Milan              40000 non-null  uint8  \n",
      " 27  Munich             40000 non-null  uint8  \n",
      " 28  Oporto             40000 non-null  uint8  \n",
      " 29  Oslo               40000 non-null  uint8  \n",
      " 30  Paris              40000 non-null  uint8  \n",
      " 31  Prague             40000 non-null  uint8  \n",
      " 32  Rome               40000 non-null  uint8  \n",
      " 33  Stockholm          40000 non-null  uint8  \n",
      " 34  Vienna             40000 non-null  uint8  \n",
      " 35  Warsaw             40000 non-null  uint8  \n",
      " 36  Zurich             40000 non-null  uint8  \n",
      " 37  date_diff          40000 non-null  float64\n",
      " 38  cuisine_variance   40000 non-null  int64  \n",
      "dtypes: float64(4), int64(1), uint8(34)\n",
      "memory usage: 2.8 MB\n"
     ]
    }
   ],
   "source": [
    "df.info()"
   ]
  },
  {
   "cell_type": "markdown",
   "metadata": {},
   "source": [
    "# Разбиваем датафрейм на части, необходимые для обучения и тестирования модели"
   ]
  },
  {
   "cell_type": "code",
   "execution_count": 18,
   "metadata": {},
   "outputs": [],
   "source": [
    "# Х - данные с информацией о ресторанах, у - целевая переменная (рейтинги ресторанов)\n",
    "X = df.drop(['Rating'], axis = 1)\n",
    "y = df['Rating']"
   ]
  },
  {
   "cell_type": "code",
   "execution_count": 19,
   "metadata": {},
   "outputs": [],
   "source": [
    "# Загружаем специальный инструмент для разбивки:\n",
    "from sklearn.model_selection import train_test_split"
   ]
  },
  {
   "cell_type": "code",
   "execution_count": 20,
   "metadata": {},
   "outputs": [],
   "source": [
    "# Наборы данных с меткой \"train\" будут использоваться для обучения модели, \"test\" - для тестирования.\n",
    "# Для тестирования мы будем использовать 25% от исходного датасета.\n",
    "X_train, X_test, y_train, y_test = train_test_split(X, y, test_size=0.25)"
   ]
  },
  {
   "cell_type": "markdown",
   "metadata": {},
   "source": [
    "# Cоздаём, обучаем и тестируем модель"
   ]
  },
  {
   "cell_type": "code",
   "execution_count": 21,
   "metadata": {},
   "outputs": [],
   "source": [
    "# Импортируем необходимые библиотеки:\n",
    "from sklearn.ensemble import RandomForestRegressor # инструмент для создания и обучения модели\n",
    "from sklearn import metrics # инструменты для оценки точности модели"
   ]
  },
  {
   "cell_type": "code",
   "execution_count": 22,
   "metadata": {},
   "outputs": [],
   "source": [
    "# Создаём модель\n",
    "regr = RandomForestRegressor(n_estimators=100)\n",
    "\n",
    "# Обучаем модель на тестовом наборе данных\n",
    "regr.fit(X_train, y_train)\n",
    "\n",
    "# Используем обученную модель для предсказания рейтинга ресторанов в тестовой выборке.\n",
    "# Предсказанные значения записываем в переменную y_pred\n",
    "y_pred = regr.predict(X_test)"
   ]
  },
  {
   "cell_type": "code",
   "execution_count": 23,
   "metadata": {},
   "outputs": [
    {
     "name": "stdout",
     "output_type": "stream",
     "text": [
      "MAE: 0.21242349999999996\n"
     ]
    }
   ],
   "source": [
    "# Сравниваем предсказанные значения (y_pred) с реальными (y_test), и смотрим насколько они в среднем отличаются\n",
    "# Метрика называется Mean Absolute Error (MAE) и показывает среднее отклонение предсказанных значений от фактических.\n",
    "print('MAE:', metrics.mean_absolute_error(y_test, y_pred))"
   ]
  }
 ],
 "metadata": {
  "kernelspec": {
   "display_name": "Python 3",
   "language": "python",
   "name": "python3"
  },
  "language_info": {
   "codemirror_mode": {
    "name": "ipython",
    "version": 3
   },
   "file_extension": ".py",
   "mimetype": "text/x-python",
   "name": "python",
   "nbconvert_exporter": "python",
   "pygments_lexer": "ipython3",
   "version": "3.8.5"
  }
 },
 "nbformat": 4,
 "nbformat_minor": 4
}
